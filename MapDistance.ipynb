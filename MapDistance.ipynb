{
  "nbformat": 4,
  "nbformat_minor": 0,
  "metadata": {
    "colab": {
      "provenance": [],
      "authorship_tag": "ABX9TyOWzrLsX3WYG2kFD/b+Ti0M",
      "include_colab_link": true
    },
    "kernelspec": {
      "name": "python3",
      "display_name": "Python 3"
    },
    "language_info": {
      "name": "python"
    }
  },
  "cells": [
    {
      "cell_type": "markdown",
      "metadata": {
        "id": "view-in-github",
        "colab_type": "text"
      },
      "source": [
        "<a href=\"https://colab.research.google.com/github/IlyaZutler/MapAnalysis/blob/main/MapDistance.ipynb\" target=\"_parent\"><img src=\"https://colab.research.google.com/assets/colab-badge.svg\" alt=\"Open In Colab\"/></a>"
      ]
    },
    {
      "cell_type": "code",
      "execution_count": 1,
      "metadata": {
        "colab": {
          "base_uri": "https://localhost:8080/"
        },
        "id": "bxP5i0MZ8sIi",
        "outputId": "4bbfdd23-1b1b-4a0d-de2e-61ed7ce1de59"
      },
      "outputs": [
        {
          "output_type": "stream",
          "name": "stdout",
          "text": [
            "Distance: 1.8868 km\n"
          ]
        }
      ],
      "source": [
        "import requests\n",
        "\n",
        "# Координаты двух точек (Долгота, Широта)\n",
        "start_coords = \"13.388860,52.517037\"\n",
        "end_coords = \"13.397634,52.529407\"\n",
        "\n",
        "# URL для маршрута\n",
        "url = f\"http://router.project-osrm.org/route/v1/driving/{start_coords};{end_coords}?overview=false\"\n",
        "\n",
        "# Отправка запроса\n",
        "response = requests.get(url)\n",
        "data = response.json()\n",
        "\n",
        "# Получение расстояния\n",
        "distance = data['routes'][0]['distance'] / 1000  # в километрах\n",
        "print(f\"Distance: {distance} km\")\n"
      ]
    },
    {
      "cell_type": "code",
      "source": [
        "!pip install pandas requests geopy openpyxl\n",
        "import pandas as pd\n",
        "import requests\n",
        "from geopy.distance import geodesic"
      ],
      "metadata": {
        "id": "nQChpL7bCtma"
      },
      "execution_count": null,
      "outputs": []
    },
    {
      "cell_type": "code",
      "source": [
        "# Функция для вычисления гаверсинова расстояния\n",
        "def haversine_distance(lat1, lon1, lat2, lon2):\n",
        "    return geodesic((lat1, lon1), (lat2, lon2)).kilometers\n",
        "\n",
        "# Функция для вызова OSRM API и получения расстояния по сети дорог\n",
        "def get_osrm_distance(lat1, lon1, lat2, lon2):\n",
        "    url = f\"http://router.project-osrm.org/route/v1/driving/{lon1},{lat1};{lon2},{lat2}?overview=false\"\n",
        "    response = requests.get(url)\n",
        "    data = response.json()\n",
        "    if 'routes' in data:\n",
        "        return data['routes'][0]['distance'] / 1000  # расстояние в километрах\n",
        "    else:\n",
        "        return None\n",
        "\n",
        "# Загрузка данных из Excel-файла\n",
        "input_file = 'trips.xlsx'\n",
        "df = pd.read_excel(input_file)\n",
        "\n",
        "# Создание столбцов для результатов\n",
        "df['Гаверсиново расстояние (км)'] = None\n",
        "df['Расстояние по сети дорог (км)'] = None\n",
        "\n",
        "# Обработка каждой строки\n",
        "for index, row in df.iterrows():\n",
        "    lat1, lon1 = row['Широта отправления'], row['Долгота отправления']\n",
        "    lat2, lon2 = row['Широта назначения'], row['Долгота назначения']\n",
        "\n",
        "    # Расчет гаверсинова расстояния\n",
        "    haversine_dist = haversine_distance(lat1, lon1, lat2, lon2)\n",
        "    df.at[index, 'Гаверсиново расстояние (км)'] = haversine_dist\n",
        "\n",
        "    # Получение расстояния по сети дорог\n",
        "    osrm_dist = get_osrm_distance(lat1, lon1, lat2, lon2)\n",
        "    df.at[index, 'Расстояние по сети дорог (км)'] = osrm_dist\n",
        "\n",
        "# Сохранение результатов в новый Excel-файл\n",
        "output_file = 'trips_with_distances.xlsx'\n",
        "df.to_excel(output_file, index=False)\n",
        "\n",
        "print(\"Расчеты завершены и сохранены в файл:\", output_file)"
      ],
      "metadata": {
        "id": "I1B78j2nCzR6"
      },
      "execution_count": null,
      "outputs": []
    }
  ]
}